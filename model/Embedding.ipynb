{
  "nbformat": 4,
  "nbformat_minor": 0,
  "metadata": {
    "colab": {
      "name": "Embedding.ipynb",
      "provenance": [],
      "collapsed_sections": []
    },
    "kernelspec": {
      "name": "python3",
      "display_name": "Python 3"
    }
  },
  "cells": [
    {
      "cell_type": "code",
      "metadata": {
        "id": "DY_qebXBfT0D"
      },
      "source": [
        "import json\n",
        "file = r'train.json'\n",
        "with open(file) as train_file:\n",
        "    dict_train = json.load(train_file)"
      ],
      "execution_count": 45,
      "outputs": []
    },
    {
      "cell_type": "code",
      "metadata": {
        "id": "nPLIQNvE44dj",
        "outputId": "dd2d07b4-6ac4-4df1-e201-834ea1e871bc",
        "colab": {
          "base_uri": "https://localhost:8080/"
        }
      },
      "source": [
        "print(dict_train[0])"
      ],
      "execution_count": 46,
      "outputs": [
        {
          "output_type": "stream",
          "text": [
            "{'id': 10259, 'cuisine': 'greek', 'ingredients': ['romaine lettuce', 'black olives', 'grape tomatoes', 'garlic', 'pepper', 'purple onion', 'seasoning', 'garbanzo beans', 'feta cheese crumbles']}\n"
          ],
          "name": "stdout"
        }
      ]
    },
    {
      "cell_type": "code",
      "metadata": {
        "id": "wursru8P7eFp"
      },
      "source": [
        "def stringify(list_of_words):\n",
        "  ing_string = ''\n",
        "  space = ' '\n",
        "  for word in list_of_words:\n",
        "    ing_string = ing_string + space +  word \n",
        "  return ing_string"
      ],
      "execution_count": 47,
      "outputs": []
    },
    {
      "cell_type": "code",
      "metadata": {
        "id": "7orifCcg9ACd"
      },
      "source": [
        "#Construct dataset\n",
        "X = []\n",
        "y = []\n",
        "ids = []\n",
        "for i in range(len(dict_train)):\n",
        "  ids.append(dict_train[i]['id'])\n",
        "  X.append(stringify(dict_train[i]['ingredients']))\n",
        "  y.append(dict_train[i]['cuisine'])"
      ],
      "execution_count": 48,
      "outputs": []
    },
    {
      "cell_type": "code",
      "metadata": {
        "id": "mZlSIht4DyTf",
        "outputId": "3259c89e-0bf9-41d6-a6a5-4c4bce67ec3f",
        "colab": {
          "base_uri": "https://localhost:8080/"
        }
      },
      "source": [
        "import pandas as pd\n",
        "df = pd.DataFrame({'id':ids, \n",
        "                   'cuisine':y, \n",
        "                   'ingredients':X})\n",
        "print(df.head(5))"
      ],
      "execution_count": 49,
      "outputs": [
        {
          "output_type": "stream",
          "text": [
            "      id      cuisine                                        ingredients\n",
            "0  10259        greek   romaine lettuce black olives grape tomatoes g...\n",
            "1  25693  southern_us   plain flour ground pepper salt tomatoes groun...\n",
            "2  20130     filipino   eggs pepper salt mayonaise cooking oil green ...\n",
            "3  22213       indian                     water vegetable oil wheat salt\n",
            "4  13162       indian   black pepper shallots cornflour cayenne peppe...\n"
          ],
          "name": "stdout"
        }
      ]
    },
    {
      "cell_type": "code",
      "metadata": {
        "id": "0Ys06-iMABBc"
      },
      "source": [
        "import numpy as np\n",
        "from keras.preprocessing.text import Tokenizer\n",
        "from keras.preprocessing.sequence import pad_sequences\n",
        "from sklearn.model_selection import train_test_split\n",
        "\n",
        "tokenizer = Tokenizer(num_words = 1500, filters = '!\"#$%&()*+,-./:;<=>?@[\\\\]^_`{|}~\\t\\n', lower = True, split = ' ')\n",
        "tokenizer.fit_on_texts(list(df['ingredients']))\n",
        "X = tokenizer.texts_to_matrix(df['ingredients'])\n",
        "X = pad_sequences(X)\n",
        "Y = pd.get_dummies(df['cuisine']).values"
      ],
      "execution_count": 66,
      "outputs": []
    },
    {
      "cell_type": "code",
      "metadata": {
        "id": "I0_Bv3uZKTPY"
      },
      "source": [
        "index = tokenizer.word_index\n",
        "words = []\n",
        "nb = 0\n",
        "for word in index:\n",
        "  words.append(word)"
      ],
      "execution_count": 83,
      "outputs": []
    },
    {
      "cell_type": "code",
      "metadata": {
        "id": "25nhMLvKL183"
      },
      "source": [
        "word_dict = {}\n",
        "for word in words[:1500]:\n",
        "  word_dict[word] = index.get(word)-1 "
      ],
      "execution_count": 86,
      "outputs": []
    },
    {
      "cell_type": "code",
      "metadata": {
        "id": "EJ_Ku0M6AZbm",
        "outputId": "e14497d4-243f-4f00-f51c-aeac7a820a24",
        "colab": {
          "base_uri": "https://localhost:8080/"
        }
      },
      "source": [
        "# Make the embedding \n",
        "from keras.models import Input, Model\n",
        "from keras.layers import Dense\n",
        "\n",
        "# Defining the size of the embedding\n",
        "embed_size = 20\n",
        "\n",
        "# Defining the neural network\n",
        "inp = Input(shape=(X.shape[1]))\n",
        "x = Dense(units=embed_size, activation='linear')(inp)\n",
        "x = Dense(units=Y.shape[1], activation='softmax')(x)\n",
        "model = Model(inputs=inp, outputs=x)\n",
        "model.compile(loss = 'categorical_crossentropy', optimizer = 'adam')\n",
        "\n",
        "# Optimizing the network weights\n",
        "model.fit(x=X, y=Y, batch_size=256, epochs = 50)\n",
        "\n",
        "# Obtaining the weights from the neural network. \n",
        "# These are the so called word embeddings\n",
        "\n",
        "# The input layer \n",
        "weights = model.get_weights()[0]\n",
        "model\n",
        "\n",
        "# Creating a dictionary to store the embeddings in. The key is a unique word and \n",
        "# the value is the numeric vector\n",
        "embedding_dict = {}\n",
        "for word in words: \n",
        "    embedding_dict.update({\n",
        "        word: weights[word_dict.get(word)]\n",
        "        })"
      ],
      "execution_count": 95,
      "outputs": [
        {
          "output_type": "stream",
          "text": [
            "Epoch 1/50\n",
            "156/156 [==============================] - 1s 4ms/step - loss: 1.9653\n",
            "Epoch 2/50\n",
            "156/156 [==============================] - 1s 4ms/step - loss: 1.1724\n",
            "Epoch 3/50\n",
            "156/156 [==============================] - 1s 4ms/step - loss: 0.9368\n",
            "Epoch 4/50\n",
            "156/156 [==============================] - 1s 4ms/step - loss: 0.8224\n",
            "Epoch 5/50\n",
            "156/156 [==============================] - 1s 4ms/step - loss: 0.7530\n",
            "Epoch 6/50\n",
            "156/156 [==============================] - 1s 4ms/step - loss: 0.7062\n",
            "Epoch 7/50\n",
            "156/156 [==============================] - 1s 4ms/step - loss: 0.6727\n",
            "Epoch 8/50\n",
            "156/156 [==============================] - 1s 4ms/step - loss: 0.6466\n",
            "Epoch 9/50\n",
            "156/156 [==============================] - 1s 4ms/step - loss: 0.6259\n",
            "Epoch 10/50\n",
            "156/156 [==============================] - 1s 4ms/step - loss: 0.6080\n",
            "Epoch 11/50\n",
            "156/156 [==============================] - 1s 4ms/step - loss: 0.5933\n",
            "Epoch 12/50\n",
            "156/156 [==============================] - 1s 5ms/step - loss: 0.5801\n",
            "Epoch 13/50\n",
            "156/156 [==============================] - 1s 4ms/step - loss: 0.5689\n",
            "Epoch 14/50\n",
            "156/156 [==============================] - 1s 4ms/step - loss: 0.5588\n",
            "Epoch 15/50\n",
            "156/156 [==============================] - 1s 4ms/step - loss: 0.5498\n",
            "Epoch 16/50\n",
            "156/156 [==============================] - 1s 4ms/step - loss: 0.5415\n",
            "Epoch 17/50\n",
            "156/156 [==============================] - 1s 5ms/step - loss: 0.5336\n",
            "Epoch 18/50\n",
            "156/156 [==============================] - 1s 5ms/step - loss: 0.5269\n",
            "Epoch 19/50\n",
            "156/156 [==============================] - 1s 4ms/step - loss: 0.5203\n",
            "Epoch 20/50\n",
            "156/156 [==============================] - 1s 4ms/step - loss: 0.5149\n",
            "Epoch 21/50\n",
            "156/156 [==============================] - 1s 4ms/step - loss: 0.5089\n",
            "Epoch 22/50\n",
            "156/156 [==============================] - 1s 4ms/step - loss: 0.5039\n",
            "Epoch 23/50\n",
            "156/156 [==============================] - 1s 4ms/step - loss: 0.4990\n",
            "Epoch 24/50\n",
            "156/156 [==============================] - 1s 5ms/step - loss: 0.4945\n",
            "Epoch 25/50\n",
            "156/156 [==============================] - 1s 4ms/step - loss: 0.4902\n",
            "Epoch 26/50\n",
            "156/156 [==============================] - 1s 4ms/step - loss: 0.4864\n",
            "Epoch 27/50\n",
            "156/156 [==============================] - 1s 4ms/step - loss: 0.4824\n",
            "Epoch 28/50\n",
            "156/156 [==============================] - 1s 4ms/step - loss: 0.4790\n",
            "Epoch 29/50\n",
            "156/156 [==============================] - 1s 4ms/step - loss: 0.4753\n",
            "Epoch 30/50\n",
            "156/156 [==============================] - 1s 5ms/step - loss: 0.4719\n",
            "Epoch 31/50\n",
            "156/156 [==============================] - 1s 7ms/step - loss: 0.4692\n",
            "Epoch 32/50\n",
            "156/156 [==============================] - 1s 7ms/step - loss: 0.4662\n",
            "Epoch 33/50\n",
            "156/156 [==============================] - 1s 8ms/step - loss: 0.4631\n",
            "Epoch 34/50\n",
            "156/156 [==============================] - 1s 8ms/step - loss: 0.4603\n",
            "Epoch 35/50\n",
            "156/156 [==============================] - 1s 8ms/step - loss: 0.4579\n",
            "Epoch 36/50\n",
            "156/156 [==============================] - 1s 8ms/step - loss: 0.4553\n",
            "Epoch 37/50\n",
            "156/156 [==============================] - 2s 10ms/step - loss: 0.4533\n",
            "Epoch 38/50\n",
            "156/156 [==============================] - 1s 6ms/step - loss: 0.4505\n",
            "Epoch 39/50\n",
            "156/156 [==============================] - 1s 4ms/step - loss: 0.4486\n",
            "Epoch 40/50\n",
            "156/156 [==============================] - 1s 4ms/step - loss: 0.4466\n",
            "Epoch 41/50\n",
            "156/156 [==============================] - 1s 5ms/step - loss: 0.4443\n",
            "Epoch 42/50\n",
            "156/156 [==============================] - 1s 4ms/step - loss: 0.4425\n",
            "Epoch 43/50\n",
            "156/156 [==============================] - 1s 4ms/step - loss: 0.4408\n",
            "Epoch 44/50\n",
            "156/156 [==============================] - 1s 5ms/step - loss: 0.4391\n",
            "Epoch 45/50\n",
            "156/156 [==============================] - 1s 4ms/step - loss: 0.4372\n",
            "Epoch 46/50\n",
            "156/156 [==============================] - 1s 4ms/step - loss: 0.4355\n",
            "Epoch 47/50\n",
            "156/156 [==============================] - 1s 4ms/step - loss: 0.4337\n",
            "Epoch 48/50\n",
            "156/156 [==============================] - 1s 4ms/step - loss: 0.4324\n",
            "Epoch 49/50\n",
            "156/156 [==============================] - 1s 4ms/step - loss: 0.4308\n",
            "Epoch 50/50\n",
            "156/156 [==============================] - 1s 5ms/step - loss: 0.4294\n"
          ],
          "name": "stdout"
        }
      ]
    },
    {
      "cell_type": "code",
      "metadata": {
        "id": "ExAJG0WlPMnK"
      },
      "source": [
        "embedding_dict = {}\n",
        "for word in words: \n",
        "    embedding_dict.update({\n",
        "        word: weights[word_dict.get(word)]\n",
        "        })"
      ],
      "execution_count": 105,
      "outputs": []
    },
    {
      "cell_type": "code",
      "metadata": {
        "id": "mgcEVZ2SMVaI"
      },
      "source": [
        "#Save Example\n",
        "np.save('embedding.npy',embedding_dict)"
      ],
      "execution_count": 107,
      "outputs": []
    },
    {
      "cell_type": "code",
      "metadata": {
        "id": "p78OUSPmRxli",
        "outputId": "9486d674-9188-40dd-bab6-f9b702b211c0",
        "colab": {
          "base_uri": "https://localhost:8080/"
        }
      },
      "source": [
        "#Recover Example\n",
        "d2=np.load('embedding.npy', allow_pickle=True)\n",
        "print(d2.item().get('pepper'))"
      ],
      "execution_count": 109,
      "outputs": [
        {
          "output_type": "stream",
          "text": [
            "[0.005949706, 0.05450415, -0.002995953, 0.02902805, -0.005515933, -0.052571464, 0.010851413, -0.06108242, 0.05341339, 0.055890366, -0.053286728, -0.029714692, -0.008330889, -0.023648415, -0.003532108, 0.05428815, 0.022221483, 0.040627234, 0.029265307, -0.04991974]\n"
          ],
          "name": "stdout"
        }
      ]
    }
  ]
}